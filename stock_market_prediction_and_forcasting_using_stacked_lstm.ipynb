{
 "cells": [
  {
   "cell_type": "code",
   "execution_count": 4,
   "metadata": {},
   "outputs": [],
   "source": [
    "import pandas_datareader as pdr"
   ]
  },
  {
   "cell_type": "code",
   "execution_count": 5,
   "metadata": {},
   "outputs": [
    {
     "name": "stderr",
     "output_type": "stream",
     "text": [
      "C:\\Users\\Ujjwal Dash\\AppData\\Roaming\\Python\\Python37\\site-packages\\pandas_datareader\\tiingo.py:234: FutureWarning: In a future version of pandas all arguments of concat except for the argument 'objs' will be keyword-only\n",
      "  return pd.concat(dfs, self._concat_axis)\n"
     ]
    }
   ],
   "source": [
    "df=pdr.get_data_tiingo('AAPL',api_key='39b77e56be04264820e46c2902349c98851cc580')"
   ]
  },
  {
   "cell_type": "code",
   "execution_count": 6,
   "metadata": {},
   "outputs": [],
   "source": [
    "df.to_csv('AAPL.csv')"
   ]
  },
  {
   "cell_type": "code",
   "execution_count": 1,
   "metadata": {},
   "outputs": [],
   "source": [
    "import pandas as pd"
   ]
  },
  {
   "cell_type": "code",
   "execution_count": 2,
   "metadata": {},
   "outputs": [],
   "source": [
    "df=pd.read_csv('AAPL.csv')"
   ]
  },
  {
   "cell_type": "code",
   "execution_count": 3,
   "metadata": {},
   "outputs": [
    {
     "data": {
      "text/html": [
       "<div>\n",
       "<style scoped>\n",
       "    .dataframe tbody tr th:only-of-type {\n",
       "        vertical-align: middle;\n",
       "    }\n",
       "\n",
       "    .dataframe tbody tr th {\n",
       "        vertical-align: top;\n",
       "    }\n",
       "\n",
       "    .dataframe thead th {\n",
       "        text-align: right;\n",
       "    }\n",
       "</style>\n",
       "<table border=\"1\" class=\"dataframe\">\n",
       "  <thead>\n",
       "    <tr style=\"text-align: right;\">\n",
       "      <th></th>\n",
       "      <th>symbol</th>\n",
       "      <th>date</th>\n",
       "      <th>close</th>\n",
       "      <th>high</th>\n",
       "      <th>low</th>\n",
       "      <th>open</th>\n",
       "      <th>volume</th>\n",
       "      <th>adjClose</th>\n",
       "      <th>adjHigh</th>\n",
       "      <th>adjLow</th>\n",
       "      <th>adjOpen</th>\n",
       "      <th>adjVolume</th>\n",
       "      <th>divCash</th>\n",
       "      <th>splitFactor</th>\n",
       "    </tr>\n",
       "  </thead>\n",
       "  <tbody>\n",
       "    <tr>\n",
       "      <th>0</th>\n",
       "      <td>AAPL</td>\n",
       "      <td>2018-09-17 00:00:00+00:00</td>\n",
       "      <td>217.88</td>\n",
       "      <td>222.95</td>\n",
       "      <td>217.27</td>\n",
       "      <td>222.15</td>\n",
       "      <td>37195133</td>\n",
       "      <td>52.163924</td>\n",
       "      <td>53.377763</td>\n",
       "      <td>52.017881</td>\n",
       "      <td>53.186230</td>\n",
       "      <td>148780532</td>\n",
       "      <td>0.0</td>\n",
       "      <td>1.0</td>\n",
       "    </tr>\n",
       "    <tr>\n",
       "      <th>1</th>\n",
       "      <td>AAPL</td>\n",
       "      <td>2018-09-18 00:00:00+00:00</td>\n",
       "      <td>218.24</td>\n",
       "      <td>221.85</td>\n",
       "      <td>217.12</td>\n",
       "      <td>217.79</td>\n",
       "      <td>31571712</td>\n",
       "      <td>52.250114</td>\n",
       "      <td>53.114405</td>\n",
       "      <td>51.981968</td>\n",
       "      <td>52.142377</td>\n",
       "      <td>126286848</td>\n",
       "      <td>0.0</td>\n",
       "      <td>1.0</td>\n",
       "    </tr>\n",
       "    <tr>\n",
       "      <th>2</th>\n",
       "      <td>AAPL</td>\n",
       "      <td>2018-09-19 00:00:00+00:00</td>\n",
       "      <td>218.37</td>\n",
       "      <td>219.62</td>\n",
       "      <td>215.30</td>\n",
       "      <td>218.50</td>\n",
       "      <td>27123833</td>\n",
       "      <td>52.281238</td>\n",
       "      <td>52.580508</td>\n",
       "      <td>51.546231</td>\n",
       "      <td>52.312362</td>\n",
       "      <td>108495332</td>\n",
       "      <td>0.0</td>\n",
       "      <td>1.0</td>\n",
       "    </tr>\n",
       "    <tr>\n",
       "      <th>3</th>\n",
       "      <td>AAPL</td>\n",
       "      <td>2018-09-20 00:00:00+00:00</td>\n",
       "      <td>220.03</td>\n",
       "      <td>222.28</td>\n",
       "      <td>219.15</td>\n",
       "      <td>220.24</td>\n",
       "      <td>26608794</td>\n",
       "      <td>52.678668</td>\n",
       "      <td>53.217354</td>\n",
       "      <td>52.467982</td>\n",
       "      <td>52.728946</td>\n",
       "      <td>106435176</td>\n",
       "      <td>0.0</td>\n",
       "      <td>1.0</td>\n",
       "    </tr>\n",
       "    <tr>\n",
       "      <th>4</th>\n",
       "      <td>AAPL</td>\n",
       "      <td>2018-09-21 00:00:00+00:00</td>\n",
       "      <td>217.66</td>\n",
       "      <td>221.36</td>\n",
       "      <td>217.29</td>\n",
       "      <td>220.78</td>\n",
       "      <td>96246748</td>\n",
       "      <td>52.111253</td>\n",
       "      <td>52.997091</td>\n",
       "      <td>52.022669</td>\n",
       "      <td>52.858230</td>\n",
       "      <td>384986992</td>\n",
       "      <td>0.0</td>\n",
       "      <td>1.0</td>\n",
       "    </tr>\n",
       "  </tbody>\n",
       "</table>\n",
       "</div>"
      ],
      "text/plain": [
       "  symbol                       date   close    high     low    open    volume  \\\n",
       "0   AAPL  2018-09-17 00:00:00+00:00  217.88  222.95  217.27  222.15  37195133   \n",
       "1   AAPL  2018-09-18 00:00:00+00:00  218.24  221.85  217.12  217.79  31571712   \n",
       "2   AAPL  2018-09-19 00:00:00+00:00  218.37  219.62  215.30  218.50  27123833   \n",
       "3   AAPL  2018-09-20 00:00:00+00:00  220.03  222.28  219.15  220.24  26608794   \n",
       "4   AAPL  2018-09-21 00:00:00+00:00  217.66  221.36  217.29  220.78  96246748   \n",
       "\n",
       "    adjClose    adjHigh     adjLow    adjOpen  adjVolume  divCash  splitFactor  \n",
       "0  52.163924  53.377763  52.017881  53.186230  148780532      0.0          1.0  \n",
       "1  52.250114  53.114405  51.981968  52.142377  126286848      0.0          1.0  \n",
       "2  52.281238  52.580508  51.546231  52.312362  108495332      0.0          1.0  \n",
       "3  52.678668  53.217354  52.467982  52.728946  106435176      0.0          1.0  \n",
       "4  52.111253  52.997091  52.022669  52.858230  384986992      0.0          1.0  "
      ]
     },
     "execution_count": 3,
     "metadata": {},
     "output_type": "execute_result"
    }
   ],
   "source": [
    "df.head()"
   ]
  },
  {
   "cell_type": "code",
   "execution_count": 4,
   "metadata": {},
   "outputs": [
    {
     "data": {
      "text/html": [
       "<div>\n",
       "<style scoped>\n",
       "    .dataframe tbody tr th:only-of-type {\n",
       "        vertical-align: middle;\n",
       "    }\n",
       "\n",
       "    .dataframe tbody tr th {\n",
       "        vertical-align: top;\n",
       "    }\n",
       "\n",
       "    .dataframe thead th {\n",
       "        text-align: right;\n",
       "    }\n",
       "</style>\n",
       "<table border=\"1\" class=\"dataframe\">\n",
       "  <thead>\n",
       "    <tr style=\"text-align: right;\">\n",
       "      <th></th>\n",
       "      <th>symbol</th>\n",
       "      <th>date</th>\n",
       "      <th>close</th>\n",
       "      <th>high</th>\n",
       "      <th>low</th>\n",
       "      <th>open</th>\n",
       "      <th>volume</th>\n",
       "      <th>adjClose</th>\n",
       "      <th>adjHigh</th>\n",
       "      <th>adjLow</th>\n",
       "      <th>adjOpen</th>\n",
       "      <th>adjVolume</th>\n",
       "      <th>divCash</th>\n",
       "      <th>splitFactor</th>\n",
       "    </tr>\n",
       "  </thead>\n",
       "  <tbody>\n",
       "    <tr>\n",
       "      <th>1253</th>\n",
       "      <td>AAPL</td>\n",
       "      <td>2023-09-11 00:00:00+00:00</td>\n",
       "      <td>179.36</td>\n",
       "      <td>180.300</td>\n",
       "      <td>177.34</td>\n",
       "      <td>180.07</td>\n",
       "      <td>58953052</td>\n",
       "      <td>179.36</td>\n",
       "      <td>180.300</td>\n",
       "      <td>177.34</td>\n",
       "      <td>180.07</td>\n",
       "      <td>58953052</td>\n",
       "      <td>0.0</td>\n",
       "      <td>1.0</td>\n",
       "    </tr>\n",
       "    <tr>\n",
       "      <th>1254</th>\n",
       "      <td>AAPL</td>\n",
       "      <td>2023-09-12 00:00:00+00:00</td>\n",
       "      <td>176.30</td>\n",
       "      <td>180.130</td>\n",
       "      <td>174.82</td>\n",
       "      <td>179.49</td>\n",
       "      <td>90370192</td>\n",
       "      <td>176.30</td>\n",
       "      <td>180.130</td>\n",
       "      <td>174.82</td>\n",
       "      <td>179.49</td>\n",
       "      <td>90370192</td>\n",
       "      <td>0.0</td>\n",
       "      <td>1.0</td>\n",
       "    </tr>\n",
       "    <tr>\n",
       "      <th>1255</th>\n",
       "      <td>AAPL</td>\n",
       "      <td>2023-09-13 00:00:00+00:00</td>\n",
       "      <td>174.21</td>\n",
       "      <td>177.300</td>\n",
       "      <td>173.98</td>\n",
       "      <td>176.51</td>\n",
       "      <td>84267928</td>\n",
       "      <td>174.21</td>\n",
       "      <td>177.300</td>\n",
       "      <td>173.98</td>\n",
       "      <td>176.51</td>\n",
       "      <td>84267928</td>\n",
       "      <td>0.0</td>\n",
       "      <td>1.0</td>\n",
       "    </tr>\n",
       "    <tr>\n",
       "      <th>1256</th>\n",
       "      <td>AAPL</td>\n",
       "      <td>2023-09-14 00:00:00+00:00</td>\n",
       "      <td>175.74</td>\n",
       "      <td>176.100</td>\n",
       "      <td>173.58</td>\n",
       "      <td>174.00</td>\n",
       "      <td>60895757</td>\n",
       "      <td>175.74</td>\n",
       "      <td>176.100</td>\n",
       "      <td>173.58</td>\n",
       "      <td>174.00</td>\n",
       "      <td>60895757</td>\n",
       "      <td>0.0</td>\n",
       "      <td>1.0</td>\n",
       "    </tr>\n",
       "    <tr>\n",
       "      <th>1257</th>\n",
       "      <td>AAPL</td>\n",
       "      <td>2023-09-15 00:00:00+00:00</td>\n",
       "      <td>175.01</td>\n",
       "      <td>176.495</td>\n",
       "      <td>173.82</td>\n",
       "      <td>176.48</td>\n",
       "      <td>109259461</td>\n",
       "      <td>175.01</td>\n",
       "      <td>176.495</td>\n",
       "      <td>173.82</td>\n",
       "      <td>176.48</td>\n",
       "      <td>109259461</td>\n",
       "      <td>0.0</td>\n",
       "      <td>1.0</td>\n",
       "    </tr>\n",
       "  </tbody>\n",
       "</table>\n",
       "</div>"
      ],
      "text/plain": [
       "     symbol                       date   close     high     low    open  \\\n",
       "1253   AAPL  2023-09-11 00:00:00+00:00  179.36  180.300  177.34  180.07   \n",
       "1254   AAPL  2023-09-12 00:00:00+00:00  176.30  180.130  174.82  179.49   \n",
       "1255   AAPL  2023-09-13 00:00:00+00:00  174.21  177.300  173.98  176.51   \n",
       "1256   AAPL  2023-09-14 00:00:00+00:00  175.74  176.100  173.58  174.00   \n",
       "1257   AAPL  2023-09-15 00:00:00+00:00  175.01  176.495  173.82  176.48   \n",
       "\n",
       "         volume  adjClose  adjHigh  adjLow  adjOpen  adjVolume  divCash  \\\n",
       "1253   58953052    179.36  180.300  177.34   180.07   58953052      0.0   \n",
       "1254   90370192    176.30  180.130  174.82   179.49   90370192      0.0   \n",
       "1255   84267928    174.21  177.300  173.98   176.51   84267928      0.0   \n",
       "1256   60895757    175.74  176.100  173.58   174.00   60895757      0.0   \n",
       "1257  109259461    175.01  176.495  173.82   176.48  109259461      0.0   \n",
       "\n",
       "      splitFactor  \n",
       "1253          1.0  \n",
       "1254          1.0  \n",
       "1255          1.0  \n",
       "1256          1.0  \n",
       "1257          1.0  "
      ]
     },
     "execution_count": 4,
     "metadata": {},
     "output_type": "execute_result"
    }
   ],
   "source": [
    "df.tail()"
   ]
  },
  {
   "cell_type": "code",
   "execution_count": 5,
   "metadata": {},
   "outputs": [
    {
     "data": {
      "text/plain": [
       "(1258, 14)"
      ]
     },
     "execution_count": 5,
     "metadata": {},
     "output_type": "execute_result"
    }
   ],
   "source": [
    "df.shape"
   ]
  },
  {
   "cell_type": "code",
   "execution_count": 6,
   "metadata": {},
   "outputs": [],
   "source": [
    "df2=df.reset_index()['close']"
   ]
  },
  {
   "cell_type": "code",
   "execution_count": 7,
   "metadata": {},
   "outputs": [
    {
     "data": {
      "text/plain": [
       "(1258,)"
      ]
     },
     "execution_count": 7,
     "metadata": {},
     "output_type": "execute_result"
    }
   ],
   "source": [
    "df2.shape"
   ]
  },
  {
   "cell_type": "code",
   "execution_count": 8,
   "metadata": {},
   "outputs": [
    {
     "data": {
      "text/plain": [
       "0       217.88\n",
       "1       218.24\n",
       "2       218.37\n",
       "3       220.03\n",
       "4       217.66\n",
       "         ...  \n",
       "1253    179.36\n",
       "1254    176.30\n",
       "1255    174.21\n",
       "1256    175.74\n",
       "1257    175.01\n",
       "Name: close, Length: 1258, dtype: float64"
      ]
     },
     "execution_count": 8,
     "metadata": {},
     "output_type": "execute_result"
    }
   ],
   "source": [
    "df2"
   ]
  },
  {
   "cell_type": "code",
   "execution_count": 9,
   "metadata": {},
   "outputs": [
    {
     "data": {
      "text/plain": [
       "[<matplotlib.lines.Line2D at 0x183f3c2e3d0>]"
      ]
     },
     "execution_count": 9,
     "metadata": {},
     "output_type": "execute_result"
    },
    {
     "data": {
      "image/png": "[encoded data removed]",
      "text/plain": [
       "<Figure size 640x480 with 1 Axes>"
      ]
     },
     "metadata": {},
     "output_type": "display_data"
    }
   ],
   "source": [
    "import matplotlib.pyplot as plt\n",
    "plt.plot(df2)"
   ]
  },
  {
   "cell_type": "code",
   "execution_count": 10,
   "metadata": {},
   "outputs": [],
   "source": [
    "### LSTM are sensitive to the scale of data. so we apply MinMax scaler"
   ]
  },
  {
   "cell_type": "code",
   "execution_count": 11,
   "metadata": {},
   "outputs": [],
   "source": [
    "import numpy as np"
   ]
  },
  {
   "cell_type": "code",
   "execution_count": 13,
   "metadata": {},
   "outputs": [],
   "source": [
    "from sklearn.preprocessing import MinMaxScaler\n",
    "scaler=MinMaxScaler(feature_range=(0,1))\n",
    "df2=scaler.fit_transform(np.array(df2).reshape(-1,1))"
   ]
  },
  {
   "cell_type": "code",
   "execution_count": 14,
   "metadata": {},
   "outputs": [
    {
     "data": {
      "text/plain": [
       "(1258, 1)"
      ]
     },
     "execution_count": 14,
     "metadata": {},
     "output_type": "execute_result"
    }
   ],
   "source": [
    "df2.shape"
   ]
  },
  {
   "cell_type": "code",
   "execution_count": 15,
   "metadata": {},
   "outputs": [
    {
     "data": {
      "text/plain": [
       "array([[0.27812148],\n",
       "       [0.27902317],\n",
       "       [0.27934878],\n",
       "       ...,\n",
       "       [0.16874139],\n",
       "       [0.17257358],\n",
       "       [0.17074515]])"
      ]
     },
     "execution_count": 15,
     "metadata": {},
     "output_type": "execute_result"
    }
   ],
   "source": [
    "df2"
   ]
  },
  {
   "cell_type": "code",
   "execution_count": 16,
   "metadata": {},
   "outputs": [],
   "source": [
    "### splitting dataset into train and test split\n",
    "training_size=int(len(df2)*0.65)\n",
    "test_size=len(df2)-training_size\n",
    "train_data,test_data=df2[0:training_size,:],df2[training_size:len(df2),:1]"
   ]
  },
  {
   "cell_type": "code",
   "execution_count": 17,
   "metadata": {},
   "outputs": [
    {
     "data": {
      "text/plain": [
       "(817, 1)"
      ]
     },
     "execution_count": 17,
     "metadata": {},
     "output_type": "execute_result"
    }
   ],
   "source": [
    "train_data.shape"
   ]
  },
  {
   "cell_type": "code",
   "execution_count": 18,
   "metadata": {},
   "outputs": [
    {
     "data": {
      "text/plain": [
       "(441, 1)"
      ]
     },
     "execution_count": 18,
     "metadata": {},
     "output_type": "execute_result"
    }
   ],
   "source": [
    "test_data.shape"
   ]
  },
  {
   "cell_type": "code",
   "execution_count": 19,
   "metadata": {},
   "outputs": [],
   "source": [
    "#convert an array of values into a dataset matrix\n",
    "def create_dataset(dataset,time_step=1):\n",
    "    datax,datay=[],[]\n",
    "    for i in range(len(dataset)-time_step-1):\n",
    "        a=dataset[i:(i+time_step),0]\n",
    "        datax.append(a)\n",
    "        datay.append(dataset[i+time_step,0])\n",
    "    return np.array(datax),np.array(datay)"
   ]
  },
  {
   "cell_type": "code",
   "execution_count": 20,
   "metadata": {},
   "outputs": [],
   "source": [
    "#reshape into x=t,t+1,t+2,.....,t+100 and y=t+101\n",
    "time_step=100\n",
    "x_train,y_train=create_dataset(train_data,time_step)\n",
    "x_test,y_test=create_dataset(test_data,time_step)"
   ]
  },
  {
   "cell_type": "code",
   "execution_count": 21,
   "metadata": {},
   "outputs": [
    {
     "name": "stdout",
     "output_type": "stream",
     "text": [
      "[[0.27812148 0.27902317 0.27934878 ... 0.16881653 0.16055103 0.15922354]\n",
      " [0.27902317 0.27934878 0.28350657 ... 0.16055103 0.15922354 0.15676894]\n",
      " [0.27934878 0.28350657 0.27757044 ... 0.15922354 0.15676894 0.1604258 ]\n",
      " ...\n",
      " [0.08919224 0.09845961 0.09658109 ... 0.1377583  0.14647464 0.16115216]\n",
      " [0.09845961 0.09658109 0.10008766 ... 0.14647464 0.16115216 0.17092048]\n",
      " [0.09658109 0.10008766 0.10449593 ... 0.16115216 0.17092048 0.16961803]]\n"
     ]
    }
   ],
   "source": [
    "print(x_train)"
   ]
  },
  {
   "cell_type": "code",
   "execution_count": 22,
   "metadata": {},
   "outputs": [
    {
     "data": {
      "text/plain": [
       "((716, 100), (716,))"
      ]
     },
     "execution_count": 22,
     "metadata": {},
     "output_type": "execute_result"
    }
   ],
   "source": [
    "x_train.shape,y_train.shape"
   ]
  },
  {
   "cell_type": "code",
   "execution_count": 23,
   "metadata": {},
   "outputs": [
    {
     "data": {
      "text/plain": [
       "((340, 100), (340,))"
      ]
     },
     "execution_count": 23,
     "metadata": {},
     "output_type": "execute_result"
    }
   ],
   "source": [
    "x_test.shape,y_test.shape"
   ]
  },
  {
   "cell_type": "code",
   "execution_count": 24,
   "metadata": {},
   "outputs": [],
   "source": [
    "#reshape input to be [sample,time step,features] which is required for LSTM\n",
    "x_train=x_train.reshape(x_train.shape[0],x_train.shape[1],1)\n",
    "x_test=x_test.reshape(x_test.shape[0],x_test.shape[1],1)"
   ]
  },
  {
   "cell_type": "markdown",
   "metadata": {},
   "source": [
    "Create the stack LSTM model"
   ]
  },
  {
   "cell_type": "code",
   "execution_count": 26,
   "metadata": {},
   "outputs": [],
   "source": [
    "from tensorflow.keras.models import Sequential\n",
    "from tensorflow.keras.layers import Dense\n",
    "from tensorflow.keras.layers import LSTM"
   ]
  },
  {
   "cell_type": "code",
   "execution_count": 34,
   "metadata": {},
   "outputs": [],
   "source": [
    "model=Sequential()\n",
    "model.add(LSTM(50,return_sequences=True,input_shape=(100,1)))\n",
    "model.add(LSTM(50,return_sequences=True))\n",
    "model.add(LSTM(50))\n",
    "model.add(Dense(1))\n",
    "model.compile(loss='mean_squared_error',optimizer='adam')"
   ]
  },
  {
   "cell_type": "code",
   "execution_count": 35,
   "metadata": {},
   "outputs": [
    {
     "name": "stdout",
     "output_type": "stream",
     "text": [
      "Model: \"sequential_2\"\n",
      "_________________________________________________________________\n",
      " Layer (type)                Output Shape              Param #   \n",
      "=================================================================\n",
      " lstm_3 (LSTM)               (None, 100, 50)           10400     \n",
      "                                                                 \n",
      " lstm_4 (LSTM)               (None, 100, 50)           20200     \n",
      "                                                                 \n",
      " lstm_5 (LSTM)               (None, 50)                20200     \n",
      "                                                                 \n",
      " dense_1 (Dense)             (None, 1)                 51        \n",
      "                                                                 \n",
      "=================================================================\n",
      "Total params: 50851 (198.64 KB)\n",
      "Trainable params: 50851 (198.64 KB)\n",
      "Non-trainable params: 0 (0.00 Byte)\n",
      "_________________________________________________________________\n"
     ]
    }
   ],
   "source": [
    "model.summary()"
   ]
  },
  {
   "cell_type": "code",
   "execution_count": 36,
   "metadata": {},
   "outputs": [
    {
     "name": "stdout",
     "output_type": "stream",
     "text": [
      "Epoch 1/100\n",
      "12/12 [==============================] - 5s 159ms/step - loss: 0.0500 - val_loss: 0.0040\n",
      "Epoch 2/100\n",
      "12/12 [==============================] - 1s 90ms/step - loss: 0.0138 - val_loss: 9.3090e-04\n",
      "Epoch 3/100\n",
      "12/12 [==============================] - 1s 87ms/step - loss: 0.0107 - val_loss: 3.6256e-04\n",
      "Epoch 4/100\n",
      "12/12 [==============================] - 1s 85ms/step - loss: 0.0091 - val_loss: 7.6859e-04\n",
      "Epoch 5/100\n",
      "12/12 [==============================] - 1s 86ms/step - loss: 0.0079 - val_loss: 4.2575e-04\n",
      "Epoch 6/100\n",
      "12/12 [==============================] - 1s 93ms/step - loss: 0.0074 - val_loss: 5.9236e-04\n",
      "Epoch 7/100\n",
      "12/12 [==============================] - 1s 89ms/step - loss: 0.0062 - val_loss: 3.5884e-04\n",
      "Epoch 8/100\n",
      "12/12 [==============================] - 1s 92ms/step - loss: 0.0064 - val_loss: 0.0011\n",
      "Epoch 9/100\n",
      "12/12 [==============================] - 1s 89ms/step - loss: 0.0052 - val_loss: 4.7883e-04\n",
      "Epoch 10/100\n",
      "12/12 [==============================] - 1s 87ms/step - loss: 0.0045 - val_loss: 4.6873e-04\n",
      "Epoch 11/100\n",
      "12/12 [==============================] - 1s 89ms/step - loss: 0.0043 - val_loss: 2.6882e-04\n",
      "Epoch 12/100\n",
      "12/12 [==============================] - 1s 90ms/step - loss: 0.0043 - val_loss: 3.6488e-04\n",
      "Epoch 13/100\n",
      "12/12 [==============================] - 1s 90ms/step - loss: 0.0043 - val_loss: 3.5942e-04\n",
      "Epoch 14/100\n",
      "12/12 [==============================] - 1s 90ms/step - loss: 0.0091 - val_loss: 4.9176e-04\n",
      "Epoch 15/100\n",
      "12/12 [==============================] - 1s 90ms/step - loss: 0.0053 - val_loss: 0.0012\n",
      "Epoch 16/100\n",
      "12/12 [==============================] - 1s 90ms/step - loss: 0.0039 - val_loss: 2.6990e-04\n",
      "Epoch 17/100\n",
      "12/12 [==============================] - 1s 95ms/step - loss: 0.0033 - val_loss: 3.6252e-04\n",
      "Epoch 18/100\n",
      "12/12 [==============================] - 1s 90ms/step - loss: 0.0033 - val_loss: 3.5925e-04\n",
      "Epoch 19/100\n",
      "12/12 [==============================] - 1s 91ms/step - loss: 0.0032 - val_loss: 2.5547e-04\n",
      "Epoch 20/100\n",
      "12/12 [==============================] - 1s 98ms/step - loss: 0.0024 - val_loss: 2.3971e-04\n",
      "Epoch 21/100\n",
      "12/12 [==============================] - 1s 107ms/step - loss: 0.0024 - val_loss: 2.7835e-04\n",
      "Epoch 22/100\n",
      "12/12 [==============================] - 1s 109ms/step - loss: 0.0022 - val_loss: 2.5390e-04\n",
      "Epoch 23/100\n",
      "12/12 [==============================] - 1s 96ms/step - loss: 0.0019 - val_loss: 2.4316e-04\n",
      "Epoch 24/100\n",
      "12/12 [==============================] - 1s 94ms/step - loss: 0.0021 - val_loss: 2.2859e-04\n",
      "Epoch 25/100\n",
      "12/12 [==============================] - 1s 95ms/step - loss: 0.0024 - val_loss: 4.6701e-04\n",
      "Epoch 26/100\n",
      "12/12 [==============================] - 1s 98ms/step - loss: 0.0032 - val_loss: 9.7663e-04\n",
      "Epoch 27/100\n",
      "12/12 [==============================] - 1s 96ms/step - loss: 0.0029 - val_loss: 2.7820e-04\n",
      "Epoch 28/100\n",
      "12/12 [==============================] - 1s 96ms/step - loss: 0.0027 - val_loss: 2.7576e-04\n",
      "Epoch 29/100\n",
      "12/12 [==============================] - 1s 98ms/step - loss: 0.0021 - val_loss: 2.5617e-04\n",
      "Epoch 30/100\n",
      "12/12 [==============================] - 1s 100ms/step - loss: 0.0017 - val_loss: 2.6839e-04\n",
      "Epoch 31/100\n",
      "12/12 [==============================] - 1s 94ms/step - loss: 0.0018 - val_loss: 2.3056e-04\n",
      "Epoch 32/100\n",
      "12/12 [==============================] - 1s 93ms/step - loss: 0.0017 - val_loss: 3.3586e-04\n",
      "Epoch 33/100\n",
      "12/12 [==============================] - 1s 90ms/step - loss: 0.0033 - val_loss: 4.0038e-04\n",
      "Epoch 34/100\n",
      "12/12 [==============================] - 1s 92ms/step - loss: 0.0023 - val_loss: 2.2674e-04\n",
      "Epoch 35/100\n",
      "12/12 [==============================] - 1s 92ms/step - loss: 0.0020 - val_loss: 2.2632e-04\n",
      "Epoch 36/100\n",
      "12/12 [==============================] - 1s 91ms/step - loss: 0.0024 - val_loss: 4.2403e-04\n",
      "Epoch 37/100\n",
      "12/12 [==============================] - 1s 94ms/step - loss: 0.0022 - val_loss: 2.3592e-04\n",
      "Epoch 38/100\n",
      "12/12 [==============================] - 1s 92ms/step - loss: 0.0019 - val_loss: 2.6334e-04\n",
      "Epoch 39/100\n",
      "12/12 [==============================] - 1s 98ms/step - loss: 0.0018 - val_loss: 2.4629e-04\n",
      "Epoch 40/100\n",
      "12/12 [==============================] - 1s 96ms/step - loss: 0.0016 - val_loss: 2.9119e-04\n",
      "Epoch 41/100\n",
      "12/12 [==============================] - 1s 110ms/step - loss: 0.0018 - val_loss: 2.7192e-04\n",
      "Epoch 42/100\n",
      "12/12 [==============================] - 1s 110ms/step - loss: 0.0024 - val_loss: 4.0628e-04\n",
      "Epoch 43/100\n",
      "12/12 [==============================] - 1s 107ms/step - loss: 0.0016 - val_loss: 2.5361e-04\n",
      "Epoch 44/100\n",
      "12/12 [==============================] - 1s 106ms/step - loss: 0.0018 - val_loss: 2.7431e-04\n",
      "Epoch 45/100\n",
      "12/12 [==============================] - 1s 102ms/step - loss: 0.0020 - val_loss: 3.0963e-04\n",
      "Epoch 46/100\n",
      "12/12 [==============================] - 1s 101ms/step - loss: 0.0016 - val_loss: 2.7992e-04\n",
      "Epoch 47/100\n",
      "12/12 [==============================] - 1s 97ms/step - loss: 0.0016 - val_loss: 2.3257e-04\n",
      "Epoch 48/100\n",
      "12/12 [==============================] - 1s 96ms/step - loss: 0.0016 - val_loss: 2.4700e-04\n",
      "Epoch 49/100\n",
      "12/12 [==============================] - 1s 98ms/step - loss: 0.0016 - val_loss: 2.3312e-04\n",
      "Epoch 50/100\n",
      "12/12 [==============================] - 1s 94ms/step - loss: 0.0015 - val_loss: 2.5476e-04\n",
      "Epoch 51/100\n",
      "12/12 [==============================] - 1s 92ms/step - loss: 0.0014 - val_loss: 2.3604e-04\n",
      "Epoch 52/100\n",
      "12/12 [==============================] - 1s 92ms/step - loss: 0.0014 - val_loss: 2.3794e-04\n",
      "Epoch 53/100\n",
      "12/12 [==============================] - 1s 97ms/step - loss: 0.0019 - val_loss: 2.4031e-04\n",
      "Epoch 54/100\n",
      "12/12 [==============================] - 1s 94ms/step - loss: 0.0017 - val_loss: 2.6749e-04\n",
      "Epoch 55/100\n",
      "12/12 [==============================] - 1s 92ms/step - loss: 0.0022 - val_loss: 2.3587e-04\n",
      "Epoch 56/100\n",
      "12/12 [==============================] - 1s 96ms/step - loss: 0.0016 - val_loss: 2.5511e-04\n",
      "Epoch 57/100\n",
      "12/12 [==============================] - 1s 92ms/step - loss: 0.0015 - val_loss: 2.3360e-04\n",
      "Epoch 58/100\n",
      "12/12 [==============================] - 1s 92ms/step - loss: 0.0015 - val_loss: 2.3366e-04\n",
      "Epoch 59/100\n",
      "12/12 [==============================] - 1s 90ms/step - loss: 0.0013 - val_loss: 2.3569e-04\n",
      "Epoch 60/100\n",
      "12/12 [==============================] - 1s 89ms/step - loss: 0.0013 - val_loss: 2.7115e-04\n",
      "Epoch 61/100\n",
      "12/12 [==============================] - 1s 93ms/step - loss: 0.0015 - val_loss: 3.1500e-04\n",
      "Epoch 62/100\n",
      "12/12 [==============================] - 1s 91ms/step - loss: 0.0015 - val_loss: 2.4042e-04\n",
      "Epoch 63/100\n",
      "12/12 [==============================] - 1s 92ms/step - loss: 0.0016 - val_loss: 2.3666e-04\n",
      "Epoch 64/100\n",
      "12/12 [==============================] - 1s 88ms/step - loss: 0.0026 - val_loss: 3.1572e-04\n",
      "Epoch 65/100\n",
      "12/12 [==============================] - 1s 88ms/step - loss: 0.0034 - val_loss: 2.6267e-04\n",
      "Epoch 66/100\n",
      "12/12 [==============================] - 1s 89ms/step - loss: 0.0026 - val_loss: 2.7964e-04\n",
      "Epoch 67/100\n",
      "12/12 [==============================] - 1s 90ms/step - loss: 0.0021 - val_loss: 4.7179e-04\n",
      "Epoch 68/100\n",
      "12/12 [==============================] - 1s 97ms/step - loss: 0.0017 - val_loss: 2.4912e-04\n",
      "Epoch 69/100\n",
      "12/12 [==============================] - 1s 91ms/step - loss: 0.0013 - val_loss: 2.7231e-04\n",
      "Epoch 70/100\n",
      "12/12 [==============================] - 1s 89ms/step - loss: 0.0017 - val_loss: 3.9961e-04\n",
      "Epoch 71/100\n",
      "12/12 [==============================] - 1s 88ms/step - loss: 0.0027 - val_loss: 4.6439e-04\n",
      "Epoch 72/100\n",
      "12/12 [==============================] - 1s 89ms/step - loss: 0.0017 - val_loss: 3.0712e-04\n",
      "Epoch 73/100\n",
      "12/12 [==============================] - 1s 89ms/step - loss: 0.0015 - val_loss: 2.7215e-04\n",
      "Epoch 74/100\n",
      "12/12 [==============================] - 1s 91ms/step - loss: 0.0015 - val_loss: 3.6821e-04\n",
      "Epoch 75/100\n",
      "12/12 [==============================] - 1s 89ms/step - loss: 0.0026 - val_loss: 3.8348e-04\n",
      "Epoch 76/100\n",
      "12/12 [==============================] - 1s 89ms/step - loss: 0.0035 - val_loss: 5.1133e-04\n",
      "Epoch 77/100\n",
      "12/12 [==============================] - 1s 88ms/step - loss: 0.0031 - val_loss: 3.3800e-04\n",
      "Epoch 78/100\n",
      "12/12 [==============================] - 1s 90ms/step - loss: 0.0022 - val_loss: 4.1329e-04\n",
      "Epoch 79/100\n",
      "12/12 [==============================] - 1s 90ms/step - loss: 0.0018 - val_loss: 2.5165e-04\n",
      "Epoch 80/100\n",
      "12/12 [==============================] - 1s 90ms/step - loss: 0.0014 - val_loss: 2.8939e-04\n",
      "Epoch 81/100\n",
      "12/12 [==============================] - 1s 92ms/step - loss: 0.0018 - val_loss: 3.4857e-04\n",
      "Epoch 82/100\n",
      "12/12 [==============================] - 1s 91ms/step - loss: 0.0017 - val_loss: 2.9740e-04\n",
      "Epoch 83/100\n",
      "12/12 [==============================] - 1s 88ms/step - loss: 0.0023 - val_loss: 2.7788e-04\n",
      "Epoch 84/100\n",
      "12/12 [==============================] - 1s 90ms/step - loss: 0.0019 - val_loss: 2.3259e-04\n",
      "Epoch 85/100\n",
      "12/12 [==============================] - 1s 93ms/step - loss: 0.0017 - val_loss: 2.8136e-04\n",
      "Epoch 86/100\n",
      "12/12 [==============================] - 1s 91ms/step - loss: 0.0015 - val_loss: 2.5473e-04\n",
      "Epoch 87/100\n",
      "12/12 [==============================] - 1s 89ms/step - loss: 0.0015 - val_loss: 5.5200e-04\n",
      "Epoch 88/100\n",
      "12/12 [==============================] - 1s 90ms/step - loss: 0.0017 - val_loss: 2.6008e-04\n",
      "Epoch 89/100\n",
      "12/12 [==============================] - 1s 91ms/step - loss: 0.0013 - val_loss: 3.5769e-04\n",
      "Epoch 90/100\n",
      "12/12 [==============================] - 1s 93ms/step - loss: 0.0019 - val_loss: 2.4873e-04\n",
      "Epoch 91/100\n",
      "12/12 [==============================] - 1s 91ms/step - loss: 0.0020 - val_loss: 2.6058e-04\n",
      "Epoch 92/100\n",
      "12/12 [==============================] - 1s 91ms/step - loss: 0.0014 - val_loss: 2.3079e-04\n",
      "Epoch 93/100\n",
      "12/12 [==============================] - 1s 90ms/step - loss: 0.0016 - val_loss: 5.1617e-04\n",
      "Epoch 94/100\n",
      "12/12 [==============================] - 1s 90ms/step - loss: 0.0080 - val_loss: 3.1479e-04\n",
      "Epoch 95/100\n",
      "12/12 [==============================] - 1s 92ms/step - loss: 0.0069 - val_loss: 2.8693e-04\n",
      "Epoch 96/100\n",
      "12/12 [==============================] - 1s 91ms/step - loss: 0.0033 - val_loss: 3.9879e-04\n",
      "Epoch 97/100\n",
      "12/12 [==============================] - 1s 90ms/step - loss: 0.0027 - val_loss: 2.4036e-04\n",
      "Epoch 98/100\n",
      "12/12 [==============================] - 1s 90ms/step - loss: 0.0022 - val_loss: 2.2275e-04\n",
      "Epoch 99/100\n",
      "12/12 [==============================] - 1s 89ms/step - loss: 0.0024 - val_loss: 2.1936e-04\n",
      "Epoch 100/100\n",
      "12/12 [==============================] - 1s 89ms/step - loss: 0.0017 - val_loss: 2.3802e-04\n"
     ]
    },
    {
     "data": {
      "text/plain": [
       "<keras.src.callbacks.History at 0x1839add9710>"
      ]
     },
     "execution_count": 36,
     "metadata": {},
     "output_type": "execute_result"
    }
   ],
   "source": [
    "model.fit(x_train,y_train,validation_data=(x_test,y_test),epochs=100,batch_size=64,verbose=1)"
   ]
  },
  {
   "cell_type": "code",
   "execution_count": 37,
   "metadata": {},
   "outputs": [
    {
     "name": "stdout",
     "output_type": "stream",
     "text": [
      "23/23 [==============================] - 1s 19ms/step\n",
      "11/11 [==============================] - 0s 18ms/step\n"
     ]
    }
   ],
   "source": [
    "#Lets Do the prediction and check performance matrics\n",
    "train_predict=model.predict(x_train)\n",
    "test_predict=model.predict(x_test)"
   ]
  },
  {
   "cell_type": "code",
   "execution_count": 38,
   "metadata": {},
   "outputs": [],
   "source": [
    "#Transform to original form\n",
    "train_predict=scaler.inverse_transform(train_predict)\n",
    "test_predict=scaler.inverse_transform(test_predict)"
   ]
  },
  {
   "cell_type": "code",
   "execution_count": 39,
   "metadata": {},
   "outputs": [
    {
     "data": {
      "text/plain": [
       "224.18992502399394"
      ]
     },
     "execution_count": 39,
     "metadata": {},
     "output_type": "execute_result"
    }
   ],
   "source": [
    "#calculate RMSE performance matrics\n",
    "import math\n",
    "from sklearn.metrics import mean_squared_error\n",
    "math.sqrt(mean_squared_error(y_train,train_predict))"
   ]
  },
  {
   "cell_type": "code",
   "execution_count": 40,
   "metadata": {},
   "outputs": [
    {
     "data": {
      "text/plain": [
       "161.2241803909904"
      ]
     },
     "execution_count": 40,
     "metadata": {},
     "output_type": "execute_result"
    }
   ],
   "source": [
    "#For test data\n",
    "math.sqrt(mean_squared_error(y_test,test_predict))"
   ]
  },
  {
   "cell_type": "markdown",
   "metadata": {},
   "source": [
    "Plotting"
   ]
  },
  {
   "cell_type": "code",
   "execution_count": 45,
   "metadata": {},
   "outputs": [
    {
     "data": {
      "image/png": "[encoded data removed]",
      "text/plain": [
       "<Figure size 640x480 with 1 Axes>"
      ]
     },
     "metadata": {},
     "output_type": "display_data"
    }
   ],
   "source": [
    "#shift train prediction for plotting\n",
    "look_back=100\n",
    "trainPredictPlot=np.empty_like(df2)\n",
    "trainPredictPlot[:, :]=np.nan\n",
    "trainPredictPlot[look_back:len(train_predict)+look_back, :]=train_predict\n",
    "\n",
    "#shift test prediction for plotting\n",
    "testPredictPlot=np.empty_like(df2)\n",
    "testPredictPlot[:, :]=np.nan\n",
    "testPredictPlot[len(train_predict)+(look_back*2)+1:len(df2)-1, :]=test_predict\n",
    "\n",
    "#plot baseline and prediction\n",
    "plt.plot(scaler.inverse_transform(df2))\n",
    "plt.plot(trainPredictPlot)\n",
    "plt.plot(testPredictPlot)\n",
    "plt.show()"
   ]
  },
  {
   "cell_type": "code",
   "execution_count": 47,
   "metadata": {},
   "outputs": [
    {
     "data": {
      "text/plain": [
       "441"
      ]
     },
     "execution_count": 47,
     "metadata": {},
     "output_type": "execute_result"
    }
   ],
   "source": [
    "len(test_data)"
   ]
  },
  {
   "cell_type": "code",
   "execution_count": 48,
   "metadata": {},
   "outputs": [
    {
     "data": {
      "text/plain": [
       "(1, 100)"
      ]
     },
     "execution_count": 48,
     "metadata": {},
     "output_type": "execute_result"
    }
   ],
   "source": [
    "x_input=test_data[341:].reshape(1,-1)\n",
    "x_input.shape"
   ]
  },
  {
   "cell_type": "code",
   "execution_count": 49,
   "metadata": {},
   "outputs": [],
   "source": [
    "temp_input=list(x_input)\n",
    "temp_input=temp_input[0].tolist()"
   ]
  },
  {
   "cell_type": "markdown",
   "metadata": {},
   "source": [
    "Predict data for next 30 days"
   ]
  },
  {
   "cell_type": "code",
   "execution_count": 50,
   "metadata": {},
   "outputs": [
    {
     "name": "stdout",
     "output_type": "stream",
     "text": [
      "[0.19005203]\n",
      "101\n",
      "1 day input [0.14256731 0.15421415 0.15739512 0.15716969 0.15453976 0.15180964\n",
      " 0.14765185 0.16713838 0.16696306 0.16262993 0.16710081 0.16758923\n",
      " 0.16463369 0.16338134 0.16338134 0.16493425 0.17084534 0.17112085\n",
      " 0.16871634 0.16210394 0.16280526 0.16568566 0.17179712 0.1764809\n",
      " 0.17635567 0.183469   0.18562304 0.18219161 0.18126487 0.17778334\n",
      " 0.18467126 0.18564809 0.19273638 0.19153413 0.19313713 0.19829681\n",
      " 0.19556669 0.19579211 0.19316218 0.20077646 0.19997495 0.19644333\n",
      " 0.20343143 0.20641202 0.20726362 0.21823419 0.2144521  0.21162179\n",
      " 0.21282405 0.20999374 0.20480902 0.20348153 0.20771446 0.20964308\n",
      " 0.21001879 0.21828428 0.21763306 0.2210645  0.21613024 0.21314966\n",
      " 0.21517846 0.21735755 0.21956168 0.21635567 0.22289292 0.22444584\n",
      " 0.22232937 0.21475266 0.21122104 0.18822793 0.18036318 0.18274264\n",
      " 0.17871008 0.17815905 0.1777082  0.18189105 0.17685661 0.17465247\n",
      " 0.1682154  0.16944271 0.17282405 0.17630557 0.18604884 0.17417658\n",
      " 0.17976205 0.18371947 0.19356293 0.20240451 0.20295554 0.20693801\n",
      " 0.20753914 0.19053225 0.17713212 0.17868503 0.18164058 0.17397621\n",
      " 0.16874139 0.17257358 0.17074515 0.19005203]\n",
      "1 day output [[0.1875088]]\n",
      "2 day input [0.15421415 0.15739512 0.15716969 0.15453976 0.15180964 0.14765185\n",
      " 0.16713838 0.16696306 0.16262993 0.16710081 0.16758923 0.16463369\n",
      " 0.16338134 0.16338134 0.16493425 0.17084534 0.17112085 0.16871634\n",
      " 0.16210394 0.16280526 0.16568566 0.17179712 0.1764809  0.17635567\n",
      " 0.183469   0.18562304 0.18219161 0.18126487 0.17778334 0.18467126\n",
      " 0.18564809 0.19273638 0.19153413 0.19313713 0.19829681 0.19556669\n",
      " 0.19579211 0.19316218 0.20077646 0.19997495 0.19644333 0.20343143\n",
      " 0.20641202 0.20726362 0.21823419 0.2144521  0.21162179 0.21282405\n",
      " 0.20999374 0.20480902 0.20348153 0.20771446 0.20964308 0.21001879\n",
      " 0.21828428 0.21763306 0.2210645  0.21613024 0.21314966 0.21517846\n",
      " 0.21735755 0.21956168 0.21635567 0.22289292 0.22444584 0.22232937\n",
      " 0.21475266 0.21122104 0.18822793 0.18036318 0.18274264 0.17871008\n",
      " 0.17815905 0.1777082  0.18189105 0.17685661 0.17465247 0.1682154\n",
      " 0.16944271 0.17282405 0.17630557 0.18604884 0.17417658 0.17976205\n",
      " 0.18371947 0.19356293 0.20240451 0.20295554 0.20693801 0.20753914\n",
      " 0.19053225 0.17713212 0.17868503 0.18164058 0.17397621 0.16874139\n",
      " 0.17257358 0.17074515 0.19005203 0.18750881]\n",
      "2 day output [[0.18596157]]\n",
      "3 day input [0.15739512 0.15716969 0.15453976 0.15180964 0.14765185 0.16713838\n",
      " 0.16696306 0.16262993 0.16710081 0.16758923 0.16463369 0.16338134\n",
      " 0.16338134 0.16493425 0.17084534 0.17112085 0.16871634 0.16210394\n",
      " 0.16280526 0.16568566 0.17179712 0.1764809  0.17635567 0.183469\n",
      " 0.18562304 0.18219161 0.18126487 0.17778334 0.18467126 0.18564809\n",
      " 0.19273638 0.19153413 0.19313713 0.19829681 0.19556669 0.19579211\n",
      " 0.19316218 0.20077646 0.19997495 0.19644333 0.20343143 0.20641202\n",
      " 0.20726362 0.21823419 0.2144521  0.21162179 0.21282405 0.20999374\n",
      " 0.20480902 0.20348153 0.20771446 0.20964308 0.21001879 0.21828428\n",
      " 0.21763306 0.2210645  0.21613024 0.21314966 0.21517846 0.21735755\n",
      " 0.21956168 0.21635567 0.22289292 0.22444584 0.22232937 0.21475266\n",
      " 0.21122104 0.18822793 0.18036318 0.18274264 0.17871008 0.17815905\n",
      " 0.1777082  0.18189105 0.17685661 0.17465247 0.1682154  0.16944271\n",
      " 0.17282405 0.17630557 0.18604884 0.17417658 0.17976205 0.18371947\n",
      " 0.19356293 0.20240451 0.20295554 0.20693801 0.20753914 0.19053225\n",
      " 0.17713212 0.17868503 0.18164058 0.17397621 0.16874139 0.17257358\n",
      " 0.17074515 0.19005203 0.18750881 0.18596157]\n",
      "3 day output [[0.18522324]]\n",
      "4 day input [0.15716969 0.15453976 0.15180964 0.14765185 0.16713838 0.16696306\n",
      " 0.16262993 0.16710081 0.16758923 0.16463369 0.16338134 0.16338134\n",
      " 0.16493425 0.17084534 0.17112085 0.16871634 0.16210394 0.16280526\n",
      " 0.16568566 0.17179712 0.1764809  0.17635567 0.183469   0.18562304\n",
      " 0.18219161 0.18126487 0.17778334 0.18467126 0.18564809 0.19273638\n",
      " 0.19153413 0.19313713 0.19829681 0.19556669 0.19579211 0.19316218\n",
      " 0.20077646 0.19997495 0.19644333 0.20343143 0.20641202 0.20726362\n",
      " 0.21823419 0.2144521  0.21162179 0.21282405 0.20999374 0.20480902\n",
      " 0.20348153 0.20771446 0.20964308 0.21001879 0.21828428 0.21763306\n",
      " 0.2210645  0.21613024 0.21314966 0.21517846 0.21735755 0.21956168\n",
      " 0.21635567 0.22289292 0.22444584 0.22232937 0.21475266 0.21122104\n",
      " 0.18822793 0.18036318 0.18274264 0.17871008 0.17815905 0.1777082\n",
      " 0.18189105 0.17685661 0.17465247 0.1682154  0.16944271 0.17282405\n",
      " 0.17630557 0.18604884 0.17417658 0.17976205 0.18371947 0.19356293\n",
      " 0.20240451 0.20295554 0.20693801 0.20753914 0.19053225 0.17713212\n",
      " 0.17868503 0.18164058 0.17397621 0.16874139 0.17257358 0.17074515\n",
      " 0.19005203 0.18750881 0.18596157 0.18522324]\n",
      "4 day output [[0.18506625]]\n",
      "5 day input [0.15453976 0.15180964 0.14765185 0.16713838 0.16696306 0.16262993\n",
      " 0.16710081 0.16758923 0.16463369 0.16338134 0.16338134 0.16493425\n",
      " 0.17084534 0.17112085 0.16871634 0.16210394 0.16280526 0.16568566\n",
      " 0.17179712 0.1764809  0.17635567 0.183469   0.18562304 0.18219161\n",
      " 0.18126487 0.17778334 0.18467126 0.18564809 0.19273638 0.19153413\n",
      " 0.19313713 0.19829681 0.19556669 0.19579211 0.19316218 0.20077646\n",
      " 0.19997495 0.19644333 0.20343143 0.20641202 0.20726362 0.21823419\n",
      " 0.2144521  0.21162179 0.21282405 0.20999374 0.20480902 0.20348153\n",
      " 0.20771446 0.20964308 0.21001879 0.21828428 0.21763306 0.2210645\n",
      " 0.21613024 0.21314966 0.21517846 0.21735755 0.21956168 0.21635567\n",
      " 0.22289292 0.22444584 0.22232937 0.21475266 0.21122104 0.18822793\n",
      " 0.18036318 0.18274264 0.17871008 0.17815905 0.1777082  0.18189105\n",
      " 0.17685661 0.17465247 0.1682154  0.16944271 0.17282405 0.17630557\n",
      " 0.18604884 0.17417658 0.17976205 0.18371947 0.19356293 0.20240451\n",
      " 0.20295554 0.20693801 0.20753914 0.19053225 0.17713212 0.17868503\n",
      " 0.18164058 0.17397621 0.16874139 0.17257358 0.17074515 0.19005203\n",
      " 0.18750881 0.18596157 0.18522324 0.18506625]\n",
      "5 day output [[0.18530545]]\n",
      "6 day input [0.15180964 0.14765185 0.16713838 0.16696306 0.16262993 0.16710081\n",
      " 0.16758923 0.16463369 0.16338134 0.16338134 0.16493425 0.17084534\n",
      " 0.17112085 0.16871634 0.16210394 0.16280526 0.16568566 0.17179712\n",
      " 0.1764809  0.17635567 0.183469   0.18562304 0.18219161 0.18126487\n",
      " 0.17778334 0.18467126 0.18564809 0.19273638 0.19153413 0.19313713\n",
      " 0.19829681 0.19556669 0.19579211 0.19316218 0.20077646 0.19997495\n",
      " 0.19644333 0.20343143 0.20641202 0.20726362 0.21823419 0.2144521\n",
      " 0.21162179 0.21282405 0.20999374 0.20480902 0.20348153 0.20771446\n",
      " 0.20964308 0.21001879 0.21828428 0.21763306 0.2210645  0.21613024\n",
      " 0.21314966 0.21517846 0.21735755 0.21956168 0.21635567 0.22289292\n",
      " 0.22444584 0.22232937 0.21475266 0.21122104 0.18822793 0.18036318\n",
      " 0.18274264 0.17871008 0.17815905 0.1777082  0.18189105 0.17685661\n",
      " 0.17465247 0.1682154  0.16944271 0.17282405 0.17630557 0.18604884\n",
      " 0.17417658 0.17976205 0.18371947 0.19356293 0.20240451 0.20295554\n",
      " 0.20693801 0.20753914 0.19053225 0.17713212 0.17868503 0.18164058\n",
      " 0.17397621 0.16874139 0.17257358 0.17074515 0.19005203 0.18750881\n",
      " 0.18596157 0.18522324 0.18506625 0.18530545]\n",
      "6 day output [[0.18581259]]\n",
      "7 day input [0.14765185 0.16713838 0.16696306 0.16262993 0.16710081 0.16758923\n",
      " 0.16463369 0.16338134 0.16338134 0.16493425 0.17084534 0.17112085\n",
      " 0.16871634 0.16210394 0.16280526 0.16568566 0.17179712 0.1764809\n",
      " 0.17635567 0.183469   0.18562304 0.18219161 0.18126487 0.17778334\n",
      " 0.18467126 0.18564809 0.19273638 0.19153413 0.19313713 0.19829681\n",
      " 0.19556669 0.19579211 0.19316218 0.20077646 0.19997495 0.19644333\n",
      " 0.20343143 0.20641202 0.20726362 0.21823419 0.2144521  0.21162179\n",
      " 0.21282405 0.20999374 0.20480902 0.20348153 0.20771446 0.20964308\n",
      " 0.21001879 0.21828428 0.21763306 0.2210645  0.21613024 0.21314966\n",
      " 0.21517846 0.21735755 0.21956168 0.21635567 0.22289292 0.22444584\n",
      " 0.22232937 0.21475266 0.21122104 0.18822793 0.18036318 0.18274264\n",
      " 0.17871008 0.17815905 0.1777082  0.18189105 0.17685661 0.17465247\n",
      " 0.1682154  0.16944271 0.17282405 0.17630557 0.18604884 0.17417658\n",
      " 0.17976205 0.18371947 0.19356293 0.20240451 0.20295554 0.20693801\n",
      " 0.20753914 0.19053225 0.17713212 0.17868503 0.18164058 0.17397621\n",
      " 0.16874139 0.17257358 0.17074515 0.19005203 0.18750881 0.18596157\n",
      " 0.18522324 0.18506625 0.18530545 0.18581259]\n",
      "7 day output [[0.18650603]]\n",
      "8 day input [0.16713838 0.16696306 0.16262993 0.16710081 0.16758923 0.16463369\n",
      " 0.16338134 0.16338134 0.16493425 0.17084534 0.17112085 0.16871634\n",
      " 0.16210394 0.16280526 0.16568566 0.17179712 0.1764809  0.17635567\n",
      " 0.183469   0.18562304 0.18219161 0.18126487 0.17778334 0.18467126\n",
      " 0.18564809 0.19273638 0.19153413 0.19313713 0.19829681 0.19556669\n",
      " 0.19579211 0.19316218 0.20077646 0.19997495 0.19644333 0.20343143\n",
      " 0.20641202 0.20726362 0.21823419 0.2144521  0.21162179 0.21282405\n",
      " 0.20999374 0.20480902 0.20348153 0.20771446 0.20964308 0.21001879\n",
      " 0.21828428 0.21763306 0.2210645  0.21613024 0.21314966 0.21517846\n",
      " 0.21735755 0.21956168 0.21635567 0.22289292 0.22444584 0.22232937\n",
      " 0.21475266 0.21122104 0.18822793 0.18036318 0.18274264 0.17871008\n",
      " 0.17815905 0.1777082  0.18189105 0.17685661 0.17465247 0.1682154\n",
      " 0.16944271 0.17282405 0.17630557 0.18604884 0.17417658 0.17976205\n",
      " 0.18371947 0.19356293 0.20240451 0.20295554 0.20693801 0.20753914\n",
      " 0.19053225 0.17713212 0.17868503 0.18164058 0.17397621 0.16874139\n",
      " 0.17257358 0.17074515 0.19005203 0.18750881 0.18596157 0.18522324\n",
      " 0.18506625 0.18530545 0.18581259 0.18650603]\n",
      "8 day output [[0.18733567]]\n",
      "9 day input [0.16696306 0.16262993 0.16710081 0.16758923 0.16463369 0.16338134\n",
      " 0.16338134 0.16493425 0.17084534 0.17112085 0.16871634 0.16210394\n",
      " 0.16280526 0.16568566 0.17179712 0.1764809  0.17635567 0.183469\n",
      " 0.18562304 0.18219161 0.18126487 0.17778334 0.18467126 0.18564809\n",
      " 0.19273638 0.19153413 0.19313713 0.19829681 0.19556669 0.19579211\n",
      " 0.19316218 0.20077646 0.19997495 0.19644333 0.20343143 0.20641202\n",
      " 0.20726362 0.21823419 0.2144521  0.21162179 0.21282405 0.20999374\n",
      " 0.20480902 0.20348153 0.20771446 0.20964308 0.21001879 0.21828428\n",
      " 0.21763306 0.2210645  0.21613024 0.21314966 0.21517846 0.21735755\n",
      " 0.21956168 0.21635567 0.22289292 0.22444584 0.22232937 0.21475266\n",
      " 0.21122104 0.18822793 0.18036318 0.18274264 0.17871008 0.17815905\n",
      " 0.1777082  0.18189105 0.17685661 0.17465247 0.1682154  0.16944271\n",
      " 0.17282405 0.17630557 0.18604884 0.17417658 0.17976205 0.18371947\n",
      " 0.19356293 0.20240451 0.20295554 0.20693801 0.20753914 0.19053225\n",
      " 0.17713212 0.17868503 0.18164058 0.17397621 0.16874139 0.17257358\n",
      " 0.17074515 0.19005203 0.18750881 0.18596157 0.18522324 0.18506625\n",
      " 0.18530545 0.18581259 0.18650603 0.18733567]\n",
      "9 day output [[0.18826988]]\n",
      "10 day input [0.16262993 0.16710081 0.16758923 0.16463369 0.16338134 0.16338134\n",
      " 0.16493425 0.17084534 0.17112085 0.16871634 0.16210394 0.16280526\n",
      " 0.16568566 0.17179712 0.1764809  0.17635567 0.183469   0.18562304\n",
      " 0.18219161 0.18126487 0.17778334 0.18467126 0.18564809 0.19273638\n",
      " 0.19153413 0.19313713 0.19829681 0.19556669 0.19579211 0.19316218\n",
      " 0.20077646 0.19997495 0.19644333 0.20343143 0.20641202 0.20726362\n",
      " 0.21823419 0.2144521  0.21162179 0.21282405 0.20999374 0.20480902\n",
      " 0.20348153 0.20771446 0.20964308 0.21001879 0.21828428 0.21763306\n",
      " 0.2210645  0.21613024 0.21314966 0.21517846 0.21735755 0.21956168\n",
      " 0.21635567 0.22289292 0.22444584 0.22232937 0.21475266 0.21122104\n",
      " 0.18822793 0.18036318 0.18274264 0.17871008 0.17815905 0.1777082\n",
      " 0.18189105 0.17685661 0.17465247 0.1682154  0.16944271 0.17282405\n",
      " 0.17630557 0.18604884 0.17417658 0.17976205 0.18371947 0.19356293\n",
      " 0.20240451 0.20295554 0.20693801 0.20753914 0.19053225 0.17713212\n",
      " 0.17868503 0.18164058 0.17397621 0.16874139 0.17257358 0.17074515\n",
      " 0.19005203 0.18750881 0.18596157 0.18522324 0.18506625 0.18530545\n",
      " 0.18581259 0.18650603 0.18733567 0.18826988]\n",
      "10 day output [[0.18928869]]\n",
      "11 day input [0.16710081 0.16758923 0.16463369 0.16338134 0.16338134 0.16493425\n",
      " 0.17084534 0.17112085 0.16871634 0.16210394 0.16280526 0.16568566\n",
      " 0.17179712 0.1764809  0.17635567 0.183469   0.18562304 0.18219161\n",
      " 0.18126487 0.17778334 0.18467126 0.18564809 0.19273638 0.19153413\n",
      " 0.19313713 0.19829681 0.19556669 0.19579211 0.19316218 0.20077646\n",
      " 0.19997495 0.19644333 0.20343143 0.20641202 0.20726362 0.21823419\n",
      " 0.2144521  0.21162179 0.21282405 0.20999374 0.20480902 0.20348153\n",
      " 0.20771446 0.20964308 0.21001879 0.21828428 0.21763306 0.2210645\n",
      " 0.21613024 0.21314966 0.21517846 0.21735755 0.21956168 0.21635567\n",
      " 0.22289292 0.22444584 0.22232937 0.21475266 0.21122104 0.18822793\n",
      " 0.18036318 0.18274264 0.17871008 0.17815905 0.1777082  0.18189105\n",
      " 0.17685661 0.17465247 0.1682154  0.16944271 0.17282405 0.17630557\n",
      " 0.18604884 0.17417658 0.17976205 0.18371947 0.19356293 0.20240451\n",
      " 0.20295554 0.20693801 0.20753914 0.19053225 0.17713212 0.17868503\n",
      " 0.18164058 0.17397621 0.16874139 0.17257358 0.17074515 0.19005203\n",
      " 0.18750881 0.18596157 0.18522324 0.18506625 0.18530545 0.18581259\n",
      " 0.18650603 0.18733567 0.18826988 0.18928869]\n",
      "11 day output [[0.19037694]]\n",
      "12 day input [0.16758923 0.16463369 0.16338134 0.16338134 0.16493425 0.17084534\n",
      " 0.17112085 0.16871634 0.16210394 0.16280526 0.16568566 0.17179712\n",
      " 0.1764809  0.17635567 0.183469   0.18562304 0.18219161 0.18126487\n",
      " 0.17778334 0.18467126 0.18564809 0.19273638 0.19153413 0.19313713\n",
      " 0.19829681 0.19556669 0.19579211 0.19316218 0.20077646 0.19997495\n",
      " 0.19644333 0.20343143 0.20641202 0.20726362 0.21823419 0.2144521\n",
      " 0.21162179 0.21282405 0.20999374 0.20480902 0.20348153 0.20771446\n",
      " 0.20964308 0.21001879 0.21828428 0.21763306 0.2210645  0.21613024\n",
      " 0.21314966 0.21517846 0.21735755 0.21956168 0.21635567 0.22289292\n",
      " 0.22444584 0.22232937 0.21475266 0.21122104 0.18822793 0.18036318\n",
      " 0.18274264 0.17871008 0.17815905 0.1777082  0.18189105 0.17685661\n",
      " 0.17465247 0.1682154  0.16944271 0.17282405 0.17630557 0.18604884\n",
      " 0.17417658 0.17976205 0.18371947 0.19356293 0.20240451 0.20295554\n",
      " 0.20693801 0.20753914 0.19053225 0.17713212 0.17868503 0.18164058\n",
      " 0.17397621 0.16874139 0.17257358 0.17074515 0.19005203 0.18750881\n",
      " 0.18596157 0.18522324 0.18506625 0.18530545 0.18581259 0.18650603\n",
      " 0.18733567 0.18826988 0.18928869 0.19037694]\n",
      "12 day output [[0.19152182]]\n",
      "13 day input [0.16463369 0.16338134 0.16338134 0.16493425 0.17084534 0.17112085\n",
      " 0.16871634 0.16210394 0.16280526 0.16568566 0.17179712 0.1764809\n",
      " 0.17635567 0.183469   0.18562304 0.18219161 0.18126487 0.17778334\n",
      " 0.18467126 0.18564809 0.19273638 0.19153413 0.19313713 0.19829681\n",
      " 0.19556669 0.19579211 0.19316218 0.20077646 0.19997495 0.19644333\n",
      " 0.20343143 0.20641202 0.20726362 0.21823419 0.2144521  0.21162179\n",
      " 0.21282405 0.20999374 0.20480902 0.20348153 0.20771446 0.20964308\n",
      " 0.21001879 0.21828428 0.21763306 0.2210645  0.21613024 0.21314966\n",
      " 0.21517846 0.21735755 0.21956168 0.21635567 0.22289292 0.22444584\n",
      " 0.22232937 0.21475266 0.21122104 0.18822793 0.18036318 0.18274264\n",
      " 0.17871008 0.17815905 0.1777082  0.18189105 0.17685661 0.17465247\n",
      " 0.1682154  0.16944271 0.17282405 0.17630557 0.18604884 0.17417658\n",
      " 0.17976205 0.18371947 0.19356293 0.20240451 0.20295554 0.20693801\n",
      " 0.20753914 0.19053225 0.17713212 0.17868503 0.18164058 0.17397621\n",
      " 0.16874139 0.17257358 0.17074515 0.19005203 0.18750881 0.18596157\n",
      " 0.18522324 0.18506625 0.18530545 0.18581259 0.18650603 0.18733567\n",
      " 0.18826988 0.18928869 0.19037694 0.19152182]\n",
      "13 day output [[0.1927123]]\n",
      "14 day input [0.16338134 0.16338134 0.16493425 0.17084534 0.17112085 0.16871634\n",
      " 0.16210394 0.16280526 0.16568566 0.17179712 0.1764809  0.17635567\n",
      " 0.183469   0.18562304 0.18219161 0.18126487 0.17778334 0.18467126\n",
      " 0.18564809 0.19273638 0.19153413 0.19313713 0.19829681 0.19556669\n",
      " 0.19579211 0.19316218 0.20077646 0.19997495 0.19644333 0.20343143\n",
      " 0.20641202 0.20726362 0.21823419 0.2144521  0.21162179 0.21282405\n",
      " 0.20999374 0.20480902 0.20348153 0.20771446 0.20964308 0.21001879\n",
      " 0.21828428 0.21763306 0.2210645  0.21613024 0.21314966 0.21517846\n",
      " 0.21735755 0.21956168 0.21635567 0.22289292 0.22444584 0.22232937\n",
      " 0.21475266 0.21122104 0.18822793 0.18036318 0.18274264 0.17871008\n",
      " 0.17815905 0.1777082  0.18189105 0.17685661 0.17465247 0.1682154\n",
      " 0.16944271 0.17282405 0.17630557 0.18604884 0.17417658 0.17976205\n",
      " 0.18371947 0.19356293 0.20240451 0.20295554 0.20693801 0.20753914\n",
      " 0.19053225 0.17713212 0.17868503 0.18164058 0.17397621 0.16874139\n",
      " 0.17257358 0.17074515 0.19005203 0.18750881 0.18596157 0.18522324\n",
      " 0.18506625 0.18530545 0.18581259 0.18650603 0.18733567 0.18826988\n",
      " 0.18928869 0.19037694 0.19152182 0.19271231]\n",
      "14 day output [[0.19393833]]\n",
      "15 day input [0.16338134 0.16493425 0.17084534 0.17112085 0.16871634 0.16210394\n",
      " 0.16280526 0.16568566 0.17179712 0.1764809  0.17635567 0.183469\n",
      " 0.18562304 0.18219161 0.18126487 0.17778334 0.18467126 0.18564809\n",
      " 0.19273638 0.19153413 0.19313713 0.19829681 0.19556669 0.19579211\n",
      " 0.19316218 0.20077646 0.19997495 0.19644333 0.20343143 0.20641202\n",
      " 0.20726362 0.21823419 0.2144521  0.21162179 0.21282405 0.20999374\n",
      " 0.20480902 0.20348153 0.20771446 0.20964308 0.21001879 0.21828428\n",
      " 0.21763306 0.2210645  0.21613024 0.21314966 0.21517846 0.21735755\n",
      " 0.21956168 0.21635567 0.22289292 0.22444584 0.22232937 0.21475266\n",
      " 0.21122104 0.18822793 0.18036318 0.18274264 0.17871008 0.17815905\n",
      " 0.1777082  0.18189105 0.17685661 0.17465247 0.1682154  0.16944271\n",
      " 0.17282405 0.17630557 0.18604884 0.17417658 0.17976205 0.18371947\n",
      " 0.19356293 0.20240451 0.20295554 0.20693801 0.20753914 0.19053225\n",
      " 0.17713212 0.17868503 0.18164058 0.17397621 0.16874139 0.17257358\n",
      " 0.17074515 0.19005203 0.18750881 0.18596157 0.18522324 0.18506625\n",
      " 0.18530545 0.18581259 0.18650603 0.18733567 0.18826988 0.18928869\n",
      " 0.19037694 0.19152182 0.19271231 0.19393833]\n",
      "15 day output [[0.1951904]]\n",
      "16 day input [0.16493425 0.17084534 0.17112085 0.16871634 0.16210394 0.16280526\n",
      " 0.16568566 0.17179712 0.1764809  0.17635567 0.183469   0.18562304\n",
      " 0.18219161 0.18126487 0.17778334 0.18467126 0.18564809 0.19273638\n",
      " 0.19153413 0.19313713 0.19829681 0.19556669 0.19579211 0.19316218\n",
      " 0.20077646 0.19997495 0.19644333 0.20343143 0.20641202 0.20726362\n",
      " 0.21823419 0.2144521  0.21162179 0.21282405 0.20999374 0.20480902\n",
      " 0.20348153 0.20771446 0.20964308 0.21001879 0.21828428 0.21763306\n",
      " 0.2210645  0.21613024 0.21314966 0.21517846 0.21735755 0.21956168\n",
      " 0.21635567 0.22289292 0.22444584 0.22232937 0.21475266 0.21122104\n",
      " 0.18822793 0.18036318 0.18274264 0.17871008 0.17815905 0.1777082\n",
      " 0.18189105 0.17685661 0.17465247 0.1682154  0.16944271 0.17282405\n",
      " 0.17630557 0.18604884 0.17417658 0.17976205 0.18371947 0.19356293\n",
      " 0.20240451 0.20295554 0.20693801 0.20753914 0.19053225 0.17713212\n",
      " 0.17868503 0.18164058 0.17397621 0.16874139 0.17257358 0.17074515\n",
      " 0.19005203 0.18750881 0.18596157 0.18522324 0.18506625 0.18530545\n",
      " 0.18581259 0.18650603 0.18733567 0.18826988 0.18928869 0.19037694\n",
      " 0.19152182 0.19271231 0.19393833 0.1951904 ]\n",
      "16 day output [[0.19646005]]\n",
      "17 day input [0.17084534 0.17112085 0.16871634 0.16210394 0.16280526 0.16568566\n",
      " 0.17179712 0.1764809  0.17635567 0.183469   0.18562304 0.18219161\n",
      " 0.18126487 0.17778334 0.18467126 0.18564809 0.19273638 0.19153413\n",
      " 0.19313713 0.19829681 0.19556669 0.19579211 0.19316218 0.20077646\n",
      " 0.19997495 0.19644333 0.20343143 0.20641202 0.20726362 0.21823419\n",
      " 0.2144521  0.21162179 0.21282405 0.20999374 0.20480902 0.20348153\n",
      " 0.20771446 0.20964308 0.21001879 0.21828428 0.21763306 0.2210645\n",
      " 0.21613024 0.21314966 0.21517846 0.21735755 0.21956168 0.21635567\n",
      " 0.22289292 0.22444584 0.22232937 0.21475266 0.21122104 0.18822793\n",
      " 0.18036318 0.18274264 0.17871008 0.17815905 0.1777082  0.18189105\n",
      " 0.17685661 0.17465247 0.1682154  0.16944271 0.17282405 0.17630557\n",
      " 0.18604884 0.17417658 0.17976205 0.18371947 0.19356293 0.20240451\n",
      " 0.20295554 0.20693801 0.20753914 0.19053225 0.17713212 0.17868503\n",
      " 0.18164058 0.17397621 0.16874139 0.17257358 0.17074515 0.19005203\n",
      " 0.18750881 0.18596157 0.18522324 0.18506625 0.18530545 0.18581259\n",
      " 0.18650603 0.18733567 0.18826988 0.18928869 0.19037694 0.19152182\n",
      " 0.19271231 0.19393833 0.1951904  0.19646005]\n",
      "17 day output [[0.19773957]]\n",
      "18 day input [0.17112085 0.16871634 0.16210394 0.16280526 0.16568566 0.17179712\n",
      " 0.1764809  0.17635567 0.183469   0.18562304 0.18219161 0.18126487\n",
      " 0.17778334 0.18467126 0.18564809 0.19273638 0.19153413 0.19313713\n",
      " 0.19829681 0.19556669 0.19579211 0.19316218 0.20077646 0.19997495\n",
      " 0.19644333 0.20343143 0.20641202 0.20726362 0.21823419 0.2144521\n",
      " 0.21162179 0.21282405 0.20999374 0.20480902 0.20348153 0.20771446\n",
      " 0.20964308 0.21001879 0.21828428 0.21763306 0.2210645  0.21613024\n",
      " 0.21314966 0.21517846 0.21735755 0.21956168 0.21635567 0.22289292\n",
      " 0.22444584 0.22232937 0.21475266 0.21122104 0.18822793 0.18036318\n",
      " 0.18274264 0.17871008 0.17815905 0.1777082  0.18189105 0.17685661\n",
      " 0.17465247 0.1682154  0.16944271 0.17282405 0.17630557 0.18604884\n",
      " 0.17417658 0.17976205 0.18371947 0.19356293 0.20240451 0.20295554\n",
      " 0.20693801 0.20753914 0.19053225 0.17713212 0.17868503 0.18164058\n",
      " 0.17397621 0.16874139 0.17257358 0.17074515 0.19005203 0.18750881\n",
      " 0.18596157 0.18522324 0.18506625 0.18530545 0.18581259 0.18650603\n",
      " 0.18733567 0.18826988 0.18928869 0.19037694 0.19152182 0.19271231\n",
      " 0.19393833 0.1951904  0.19646005 0.19773957]\n",
      "18 day output [[0.19902244]]\n",
      "19 day input [0.16871634 0.16210394 0.16280526 0.16568566 0.17179712 0.1764809\n",
      " 0.17635567 0.183469   0.18562304 0.18219161 0.18126487 0.17778334\n",
      " 0.18467126 0.18564809 0.19273638 0.19153413 0.19313713 0.19829681\n",
      " 0.19556669 0.19579211 0.19316218 0.20077646 0.19997495 0.19644333\n",
      " 0.20343143 0.20641202 0.20726362 0.21823419 0.2144521  0.21162179\n",
      " 0.21282405 0.20999374 0.20480902 0.20348153 0.20771446 0.20964308\n",
      " 0.21001879 0.21828428 0.21763306 0.2210645  0.21613024 0.21314966\n",
      " 0.21517846 0.21735755 0.21956168 0.21635567 0.22289292 0.22444584\n",
      " 0.22232937 0.21475266 0.21122104 0.18822793 0.18036318 0.18274264\n",
      " 0.17871008 0.17815905 0.1777082  0.18189105 0.17685661 0.17465247\n",
      " 0.1682154  0.16944271 0.17282405 0.17630557 0.18604884 0.17417658\n",
      " 0.17976205 0.18371947 0.19356293 0.20240451 0.20295554 0.20693801\n",
      " 0.20753914 0.19053225 0.17713212 0.17868503 0.18164058 0.17397621\n",
      " 0.16874139 0.17257358 0.17074515 0.19005203 0.18750881 0.18596157\n",
      " 0.18522324 0.18506625 0.18530545 0.18581259 0.18650603 0.18733567\n",
      " 0.18826988 0.18928869 0.19037694 0.19152182 0.19271231 0.19393833\n",
      " 0.1951904  0.19646005 0.19773957 0.19902244]\n",
      "19 day output [[0.20030336]]\n",
      "20 day input [0.16210394 0.16280526 0.16568566 0.17179712 0.1764809  0.17635567\n",
      " 0.183469   0.18562304 0.18219161 0.18126487 0.17778334 0.18467126\n",
      " 0.18564809 0.19273638 0.19153413 0.19313713 0.19829681 0.19556669\n",
      " 0.19579211 0.19316218 0.20077646 0.19997495 0.19644333 0.20343143\n",
      " 0.20641202 0.20726362 0.21823419 0.2144521  0.21162179 0.21282405\n",
      " 0.20999374 0.20480902 0.20348153 0.20771446 0.20964308 0.21001879\n",
      " 0.21828428 0.21763306 0.2210645  0.21613024 0.21314966 0.21517846\n",
      " 0.21735755 0.21956168 0.21635567 0.22289292 0.22444584 0.22232937\n",
      " 0.21475266 0.21122104 0.18822793 0.18036318 0.18274264 0.17871008\n",
      " 0.17815905 0.1777082  0.18189105 0.17685661 0.17465247 0.1682154\n",
      " 0.16944271 0.17282405 0.17630557 0.18604884 0.17417658 0.17976205\n",
      " 0.18371947 0.19356293 0.20240451 0.20295554 0.20693801 0.20753914\n",
      " 0.19053225 0.17713212 0.17868503 0.18164058 0.17397621 0.16874139\n",
      " 0.17257358 0.17074515 0.19005203 0.18750881 0.18596157 0.18522324\n",
      " 0.18506625 0.18530545 0.18581259 0.18650603 0.18733567 0.18826988\n",
      " 0.18928869 0.19037694 0.19152182 0.19271231 0.19393833 0.1951904\n",
      " 0.19646005 0.19773957 0.19902244 0.20030336]\n",
      "20 day output [[0.20157787]]\n",
      "21 day input [0.16280526 0.16568566 0.17179712 0.1764809  0.17635567 0.183469\n",
      " 0.18562304 0.18219161 0.18126487 0.17778334 0.18467126 0.18564809\n",
      " 0.19273638 0.19153413 0.19313713 0.19829681 0.19556669 0.19579211\n",
      " 0.19316218 0.20077646 0.19997495 0.19644333 0.20343143 0.20641202\n",
      " 0.20726362 0.21823419 0.2144521  0.21162179 0.21282405 0.20999374\n",
      " 0.20480902 0.20348153 0.20771446 0.20964308 0.21001879 0.21828428\n",
      " 0.21763306 0.2210645  0.21613024 0.21314966 0.21517846 0.21735755\n",
      " 0.21956168 0.21635567 0.22289292 0.22444584 0.22232937 0.21475266\n",
      " 0.21122104 0.18822793 0.18036318 0.18274264 0.17871008 0.17815905\n",
      " 0.1777082  0.18189105 0.17685661 0.17465247 0.1682154  0.16944271\n",
      " 0.17282405 0.17630557 0.18604884 0.17417658 0.17976205 0.18371947\n",
      " 0.19356293 0.20240451 0.20295554 0.20693801 0.20753914 0.19053225\n",
      " 0.17713212 0.17868503 0.18164058 0.17397621 0.16874139 0.17257358\n",
      " 0.17074515 0.19005203 0.18750881 0.18596157 0.18522324 0.18506625\n",
      " 0.18530545 0.18581259 0.18650603 0.18733567 0.18826988 0.18928869\n",
      " 0.19037694 0.19152182 0.19271231 0.19393833 0.1951904  0.19646005\n",
      " 0.19773957 0.19902244 0.20030336 0.20157787]\n",
      "21 day output [[0.20284271]]\n",
      "22 day input [0.16568566 0.17179712 0.1764809  0.17635567 0.183469   0.18562304\n",
      " 0.18219161 0.18126487 0.17778334 0.18467126 0.18564809 0.19273638\n",
      " 0.19153413 0.19313713 0.19829681 0.19556669 0.19579211 0.19316218\n",
      " 0.20077646 0.19997495 0.19644333 0.20343143 0.20641202 0.20726362\n",
      " 0.21823419 0.2144521  0.21162179 0.21282405 0.20999374 0.20480902\n",
      " 0.20348153 0.20771446 0.20964308 0.21001879 0.21828428 0.21763306\n",
      " 0.2210645  0.21613024 0.21314966 0.21517846 0.21735755 0.21956168\n",
      " 0.21635567 0.22289292 0.22444584 0.22232937 0.21475266 0.21122104\n",
      " 0.18822793 0.18036318 0.18274264 0.17871008 0.17815905 0.1777082\n",
      " 0.18189105 0.17685661 0.17465247 0.1682154  0.16944271 0.17282405\n",
      " 0.17630557 0.18604884 0.17417658 0.17976205 0.18371947 0.19356293\n",
      " 0.20240451 0.20295554 0.20693801 0.20753914 0.19053225 0.17713212\n",
      " 0.17868503 0.18164058 0.17397621 0.16874139 0.17257358 0.17074515\n",
      " 0.19005203 0.18750881 0.18596157 0.18522324 0.18506625 0.18530545\n",
      " 0.18581259 0.18650603 0.18733567 0.18826988 0.18928869 0.19037694\n",
      " 0.19152182 0.19271231 0.19393833 0.1951904  0.19646005 0.19773957\n",
      " 0.19902244 0.20030336 0.20157787 0.20284271]\n",
      "22 day output [[0.20409523]]\n",
      "23 day input [0.17179712 0.1764809  0.17635567 0.183469   0.18562304 0.18219161\n",
      " 0.18126487 0.17778334 0.18467126 0.18564809 0.19273638 0.19153413\n",
      " 0.19313713 0.19829681 0.19556669 0.19579211 0.19316218 0.20077646\n",
      " 0.19997495 0.19644333 0.20343143 0.20641202 0.20726362 0.21823419\n",
      " 0.2144521  0.21162179 0.21282405 0.20999374 0.20480902 0.20348153\n",
      " 0.20771446 0.20964308 0.21001879 0.21828428 0.21763306 0.2210645\n",
      " 0.21613024 0.21314966 0.21517846 0.21735755 0.21956168 0.21635567\n",
      " 0.22289292 0.22444584 0.22232937 0.21475266 0.21122104 0.18822793\n",
      " 0.18036318 0.18274264 0.17871008 0.17815905 0.1777082  0.18189105\n",
      " 0.17685661 0.17465247 0.1682154  0.16944271 0.17282405 0.17630557\n",
      " 0.18604884 0.17417658 0.17976205 0.18371947 0.19356293 0.20240451\n",
      " 0.20295554 0.20693801 0.20753914 0.19053225 0.17713212 0.17868503\n",
      " 0.18164058 0.17397621 0.16874139 0.17257358 0.17074515 0.19005203\n",
      " 0.18750881 0.18596157 0.18522324 0.18506625 0.18530545 0.18581259\n",
      " 0.18650603 0.18733567 0.18826988 0.18928869 0.19037694 0.19152182\n",
      " 0.19271231 0.19393833 0.1951904  0.19646005 0.19773957 0.19902244\n",
      " 0.20030336 0.20157787 0.20284271 0.20409523]\n",
      "23 day output [[0.20533402]]\n",
      "24 day input [0.1764809  0.17635567 0.183469   0.18562304 0.18219161 0.18126487\n",
      " 0.17778334 0.18467126 0.18564809 0.19273638 0.19153413 0.19313713\n",
      " 0.19829681 0.19556669 0.19579211 0.19316218 0.20077646 0.19997495\n",
      " 0.19644333 0.20343143 0.20641202 0.20726362 0.21823419 0.2144521\n",
      " 0.21162179 0.21282405 0.20999374 0.20480902 0.20348153 0.20771446\n",
      " 0.20964308 0.21001879 0.21828428 0.21763306 0.2210645  0.21613024\n",
      " 0.21314966 0.21517846 0.21735755 0.21956168 0.21635567 0.22289292\n",
      " 0.22444584 0.22232937 0.21475266 0.21122104 0.18822793 0.18036318\n",
      " 0.18274264 0.17871008 0.17815905 0.1777082  0.18189105 0.17685661\n",
      " 0.17465247 0.1682154  0.16944271 0.17282405 0.17630557 0.18604884\n",
      " 0.17417658 0.17976205 0.18371947 0.19356293 0.20240451 0.20295554\n",
      " 0.20693801 0.20753914 0.19053225 0.17713212 0.17868503 0.18164058\n",
      " 0.17397621 0.16874139 0.17257358 0.17074515 0.19005203 0.18750881\n",
      " 0.18596157 0.18522324 0.18506625 0.18530545 0.18581259 0.18650603\n",
      " 0.18733567 0.18826988 0.18928869 0.19037694 0.19152182 0.19271231\n",
      " 0.19393833 0.1951904  0.19646005 0.19773957 0.19902244 0.20030336\n",
      " 0.20157787 0.20284271 0.20409523 0.20533402]\n",
      "24 day output [[0.20655844]]\n",
      "25 day input [0.17635567 0.183469   0.18562304 0.18219161 0.18126487 0.17778334\n",
      " 0.18467126 0.18564809 0.19273638 0.19153413 0.19313713 0.19829681\n",
      " 0.19556669 0.19579211 0.19316218 0.20077646 0.19997495 0.19644333\n",
      " 0.20343143 0.20641202 0.20726362 0.21823419 0.2144521  0.21162179\n",
      " 0.21282405 0.20999374 0.20480902 0.20348153 0.20771446 0.20964308\n",
      " 0.21001879 0.21828428 0.21763306 0.2210645  0.21613024 0.21314966\n",
      " 0.21517846 0.21735755 0.21956168 0.21635567 0.22289292 0.22444584\n",
      " 0.22232937 0.21475266 0.21122104 0.18822793 0.18036318 0.18274264\n",
      " 0.17871008 0.17815905 0.1777082  0.18189105 0.17685661 0.17465247\n",
      " 0.1682154  0.16944271 0.17282405 0.17630557 0.18604884 0.17417658\n",
      " 0.17976205 0.18371947 0.19356293 0.20240451 0.20295554 0.20693801\n",
      " 0.20753914 0.19053225 0.17713212 0.17868503 0.18164058 0.17397621\n",
      " 0.16874139 0.17257358 0.17074515 0.19005203 0.18750881 0.18596157\n",
      " 0.18522324 0.18506625 0.18530545 0.18581259 0.18650603 0.18733567\n",
      " 0.18826988 0.18928869 0.19037694 0.19152182 0.19271231 0.19393833\n",
      " 0.1951904  0.19646005 0.19773957 0.19902244 0.20030336 0.20157787\n",
      " 0.20284271 0.20409523 0.20533402 0.20655844]\n",
      "25 day output [[0.20776875]]\n",
      "26 day input [0.183469   0.18562304 0.18219161 0.18126487 0.17778334 0.18467126\n",
      " 0.18564809 0.19273638 0.19153413 0.19313713 0.19829681 0.19556669\n",
      " 0.19579211 0.19316218 0.20077646 0.19997495 0.19644333 0.20343143\n",
      " 0.20641202 0.20726362 0.21823419 0.2144521  0.21162179 0.21282405\n",
      " 0.20999374 0.20480902 0.20348153 0.20771446 0.20964308 0.21001879\n",
      " 0.21828428 0.21763306 0.2210645  0.21613024 0.21314966 0.21517846\n",
      " 0.21735755 0.21956168 0.21635567 0.22289292 0.22444584 0.22232937\n",
      " 0.21475266 0.21122104 0.18822793 0.18036318 0.18274264 0.17871008\n",
      " 0.17815905 0.1777082  0.18189105 0.17685661 0.17465247 0.1682154\n",
      " 0.16944271 0.17282405 0.17630557 0.18604884 0.17417658 0.17976205\n",
      " 0.18371947 0.19356293 0.20240451 0.20295554 0.20693801 0.20753914\n",
      " 0.19053225 0.17713212 0.17868503 0.18164058 0.17397621 0.16874139\n",
      " 0.17257358 0.17074515 0.19005203 0.18750881 0.18596157 0.18522324\n",
      " 0.18506625 0.18530545 0.18581259 0.18650603 0.18733567 0.18826988\n",
      " 0.18928869 0.19037694 0.19152182 0.19271231 0.19393833 0.1951904\n",
      " 0.19646005 0.19773957 0.19902244 0.20030336 0.20157787 0.20284271\n",
      " 0.20409523 0.20533402 0.20655844 0.20776875]\n",
      "26 day output [[0.20896603]]\n",
      "27 day input [0.18562304 0.18219161 0.18126487 0.17778334 0.18467126 0.18564809\n",
      " 0.19273638 0.19153413 0.19313713 0.19829681 0.19556669 0.19579211\n",
      " 0.19316218 0.20077646 0.19997495 0.19644333 0.20343143 0.20641202\n",
      " 0.20726362 0.21823419 0.2144521  0.21162179 0.21282405 0.20999374\n",
      " 0.20480902 0.20348153 0.20771446 0.20964308 0.21001879 0.21828428\n",
      " 0.21763306 0.2210645  0.21613024 0.21314966 0.21517846 0.21735755\n",
      " 0.21956168 0.21635567 0.22289292 0.22444584 0.22232937 0.21475266\n",
      " 0.21122104 0.18822793 0.18036318 0.18274264 0.17871008 0.17815905\n",
      " 0.1777082  0.18189105 0.17685661 0.17465247 0.1682154  0.16944271\n",
      " 0.17282405 0.17630557 0.18604884 0.17417658 0.17976205 0.18371947\n",
      " 0.19356293 0.20240451 0.20295554 0.20693801 0.20753914 0.19053225\n",
      " 0.17713212 0.17868503 0.18164058 0.17397621 0.16874139 0.17257358\n",
      " 0.17074515 0.19005203 0.18750881 0.18596157 0.18522324 0.18506625\n",
      " 0.18530545 0.18581259 0.18650603 0.18733567 0.18826988 0.18928869\n",
      " 0.19037694 0.19152182 0.19271231 0.19393833 0.1951904  0.19646005\n",
      " 0.19773957 0.19902244 0.20030336 0.20157787 0.20284271 0.20409523\n",
      " 0.20533402 0.20655844 0.20776875 0.20896603]\n",
      "27 day output [[0.21015154]]\n",
      "28 day input [0.18219161 0.18126487 0.17778334 0.18467126 0.18564809 0.19273638\n",
      " 0.19153413 0.19313713 0.19829681 0.19556669 0.19579211 0.19316218\n",
      " 0.20077646 0.19997495 0.19644333 0.20343143 0.20641202 0.20726362\n",
      " 0.21823419 0.2144521  0.21162179 0.21282405 0.20999374 0.20480902\n",
      " 0.20348153 0.20771446 0.20964308 0.21001879 0.21828428 0.21763306\n",
      " 0.2210645  0.21613024 0.21314966 0.21517846 0.21735755 0.21956168\n",
      " 0.21635567 0.22289292 0.22444584 0.22232937 0.21475266 0.21122104\n",
      " 0.18822793 0.18036318 0.18274264 0.17871008 0.17815905 0.1777082\n",
      " 0.18189105 0.17685661 0.17465247 0.1682154  0.16944271 0.17282405\n",
      " 0.17630557 0.18604884 0.17417658 0.17976205 0.18371947 0.19356293\n",
      " 0.20240451 0.20295554 0.20693801 0.20753914 0.19053225 0.17713212\n",
      " 0.17868503 0.18164058 0.17397621 0.16874139 0.17257358 0.17074515\n",
      " 0.19005203 0.18750881 0.18596157 0.18522324 0.18506625 0.18530545\n",
      " 0.18581259 0.18650603 0.18733567 0.18826988 0.18928869 0.19037694\n",
      " 0.19152182 0.19271231 0.19393833 0.1951904  0.19646005 0.19773957\n",
      " 0.19902244 0.20030336 0.20157787 0.20284271 0.20409523 0.20533402\n",
      " 0.20655844 0.20776875 0.20896603 0.21015154]\n",
      "28 day output [[0.21132754]]\n",
      "29 day input [0.18126487 0.17778334 0.18467126 0.18564809 0.19273638 0.19153413\n",
      " 0.19313713 0.19829681 0.19556669 0.19579211 0.19316218 0.20077646\n",
      " 0.19997495 0.19644333 0.20343143 0.20641202 0.20726362 0.21823419\n",
      " 0.2144521  0.21162179 0.21282405 0.20999374 0.20480902 0.20348153\n",
      " 0.20771446 0.20964308 0.21001879 0.21828428 0.21763306 0.2210645\n",
      " 0.21613024 0.21314966 0.21517846 0.21735755 0.21956168 0.21635567\n",
      " 0.22289292 0.22444584 0.22232937 0.21475266 0.21122104 0.18822793\n",
      " 0.18036318 0.18274264 0.17871008 0.17815905 0.1777082  0.18189105\n",
      " 0.17685661 0.17465247 0.1682154  0.16944271 0.17282405 0.17630557\n",
      " 0.18604884 0.17417658 0.17976205 0.18371947 0.19356293 0.20240451\n",
      " 0.20295554 0.20693801 0.20753914 0.19053225 0.17713212 0.17868503\n",
      " 0.18164058 0.17397621 0.16874139 0.17257358 0.17074515 0.19005203\n",
      " 0.18750881 0.18596157 0.18522324 0.18506625 0.18530545 0.18581259\n",
      " 0.18650603 0.18733567 0.18826988 0.18928869 0.19037694 0.19152182\n",
      " 0.19271231 0.19393833 0.1951904  0.19646005 0.19773957 0.19902244\n",
      " 0.20030336 0.20157787 0.20284271 0.20409523 0.20533402 0.20655844\n",
      " 0.20776875 0.20896603 0.21015154 0.21132754]\n",
      "29 day output [[0.21249641]]\n",
      "[[0.19005203247070312], [0.18750880658626556], [0.18596157431602478], [0.18522323668003082], [0.18506625294685364], [0.18530544638633728], [0.1858125925064087], [0.18650603294372559], [0.18733566999435425], [0.18826988339424133], [0.1892886906862259], [0.19037693738937378], [0.19152182340621948], [0.19271230697631836], [0.19393832981586456], [0.1951903998851776], [0.1964600533246994], [0.19773957133293152], [0.19902244210243225], [0.2003033608198166], [0.20157787203788757], [0.20284271240234375], [0.20409522950649261], [0.20533402264118195], [0.2065584361553192], [0.2077687531709671], [0.20896603167057037], [0.2101515382528305], [0.21132753789424896], [0.21249641478061676]]\n"
     ]
    }
   ],
   "source": [
    "lst_output=[]\n",
    "n_step=100\n",
    "i=0\n",
    "while(i<30):\n",
    "    if(len(temp_input)>100):\n",
    "        x_input=np.array(temp_input[1:])\n",
    "        print(\"{} day input {}\".format(i,x_input))\n",
    "        x_input=x_input.reshape(1,-1)\n",
    "        x_input=x_input.reshape((1,n_step,1))\n",
    "        yhat=model.predict(x_input,verbose=0)\n",
    "        print(\"{} day output {}\".format(i,yhat))\n",
    "        temp_input.extend(yhat[0].tolist())\n",
    "        temp_input=temp_input[1:]\n",
    "        lst_output.extend(yhat.tolist())\n",
    "        i=i+1\n",
    "    else:\n",
    "        x_input=x_input.reshape((1,n_step,1))\n",
    "        yhat=model.predict(x_input,verbose=0)\n",
    "        print(yhat[0])\n",
    "        temp_input.extend(yhat[0].tolist())\n",
    "        print(len(temp_input))\n",
    "        lst_output.extend(yhat.tolist())\n",
    "        i=i+1\n",
    "print(lst_output)\n",
    "        "
   ]
  },
  {
   "cell_type": "code",
   "execution_count": 51,
   "metadata": {},
   "outputs": [],
   "source": [
    "day_new=np.arange(1,101)\n",
    "day_pred=np.arange(101,131)"
   ]
  },
  {
   "cell_type": "code",
   "execution_count": 52,
   "metadata": {},
   "outputs": [
    {
     "data": {
      "text/plain": [
       "1258"
      ]
     },
     "execution_count": 52,
     "metadata": {},
     "output_type": "execute_result"
    }
   ],
   "source": [
    "len(df2)"
   ]
  },
  {
   "cell_type": "code",
   "execution_count": 53,
   "metadata": {},
   "outputs": [],
   "source": [
    "df3=df2.tolist()\n",
    "df3.extend(lst_output)"
   ]
  },
  {
   "cell_type": "code",
   "execution_count": 56,
   "metadata": {},
   "outputs": [
    {
     "data": {
      "text/plain": [
       "[<matplotlib.lines.Line2D at 0x1839bfe0990>]"
      ]
     },
     "execution_count": 56,
     "metadata": {},
     "output_type": "execute_result"
    },
    {
     "data": {
      "image/png": "[encoded data removed]",
      "text/plain": [
       "<Figure size 640x480 with 1 Axes>"
      ]
     },
     "metadata": {},
     "output_type": "display_data"
    }
   ],
   "source": [
    "plt.plot(day_new,scaler.inverse_transform(df2[1158:]))\n",
    "plt.plot(day_pred,scaler.inverse_transform(lst_output))"
   ]
  },
  {
   "cell_type": "code",
   "execution_count": 66,
   "metadata": {},
   "outputs": [
    {
     "data": {
      "text/plain": [
       "[<matplotlib.lines.Line2D at 0x1839af01310>]"
      ]
     },
     "execution_count": 66,
     "metadata": {},
     "output_type": "execute_result"
    },
    {
     "data": {
      "image/png": "[encoded data removed]",
      "text/plain": [
       "<Figure size 640x480 with 1 Axes>"
      ]
     },
     "metadata": {},
     "output_type": "display_data"
    }
   ],
   "source": [
    "df3=df2.tolist()\n",
    "df3.extend(lst_output)\n",
    "plt.plot(df3[1000:])"
   ]
  },
  {
   "cell_type": "code",
   "execution_count": 67,
   "metadata": {},
   "outputs": [
    {
     "data": {
      "text/plain": [
       "[<matplotlib.lines.Line2D at 0x1839ad11410>]"
      ]
     },
     "execution_count": 67,
     "metadata": {},
     "output_type": "execute_result"
    },
    {
     "data": {
      "image/png": "[encoded data removed]",
      "text/plain": [
       "<Figure size 640x480 with 1 Axes>"
      ]
     },
     "metadata": {},
     "output_type": "display_data"
    }
   ],
   "source": [
    "df3=scaler.inverse_transform(df3).tolist()\n",
    "plt.plot(df3)"
   ]
  },
  {
   "cell_type": "code",
   "execution_count": null,
   "metadata": {},
   "outputs": [],
   "source": []
  }
 ],
 "metadata": {
  "kernelspec": {
   "display_name": "Python 3 (ipykernel)",
   "language": "python",
   "name": "python3"
  },
  "language_info": {
   "codemirror_mode": {
    "name": "ipython",
    "version": 3
   },
   "file_extension": ".py",
   "mimetype": "text/x-python",
   "name": "python",
   "nbconvert_exporter": "python",
   "pygments_lexer": "ipython3",
   "version": "3.11.5"
  }
 },
 "nbformat": 4,
 "nbformat_minor": 4
}
